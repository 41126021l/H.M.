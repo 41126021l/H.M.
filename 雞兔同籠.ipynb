{
 "cells": [
  {
   "cell_type": "code",
   "execution_count": 1,
   "id": "aacb02f8",
   "metadata": {},
   "outputs": [
    {
     "name": "stdout",
     "output_type": "stream",
     "text": [
      "籠子裡共有幾隻雞和兔子?\n"
     ]
    }
   ],
   "source": [
    "print('籠子裡共有幾隻雞和兔子?')"
   ]
  },
  {
   "cell_type": "code",
   "execution_count": 10,
   "id": "4cab0d7d",
   "metadata": {},
   "outputs": [
    {
     "name": "stdout",
     "output_type": "stream",
     "text": [
      "15\n"
     ]
    }
   ],
   "source": [
    "h=int(input())"
   ]
  },
  {
   "cell_type": "code",
   "execution_count": 3,
   "id": "5aae1d1b",
   "metadata": {},
   "outputs": [
    {
     "name": "stdout",
     "output_type": "stream",
     "text": [
      "籠子裡共有幾隻腳?\n"
     ]
    }
   ],
   "source": [
    "print('籠子裡共有幾隻腳?')"
   ]
  },
  {
   "cell_type": "code",
   "execution_count": 9,
   "id": "fee345e4",
   "metadata": {},
   "outputs": [
    {
     "name": "stdout",
     "output_type": "stream",
     "text": [
      "40\n"
     ]
    }
   ],
   "source": [
    "f=int(input())"
   ]
  },
  {
   "cell_type": "code",
   "execution_count": 17,
   "id": "1486d351",
   "metadata": {},
   "outputs": [],
   "source": [
    "r=int((f-h*2)/2)"
   ]
  },
  {
   "cell_type": "code",
   "execution_count": 18,
   "id": "62cce0c4",
   "metadata": {},
   "outputs": [],
   "source": [
    "c=h-r"
   ]
  },
  {
   "cell_type": "code",
   "execution_count": 19,
   "id": "f77eb0b8",
   "metadata": {},
   "outputs": [
    {
     "name": "stdout",
     "output_type": "stream",
     "text": [
      "籠子裡有10隻雞和5隻兔子\n"
     ]
    }
   ],
   "source": [
    "print('籠子裡有'+str(c)+'隻雞和'+str(r)+\"隻兔子\")"
   ]
  },
  {
   "cell_type": "code",
   "execution_count": null,
   "id": "acdfd4ad",
   "metadata": {},
   "outputs": [],
   "source": []
  }
 ],
 "metadata": {
  "kernelspec": {
   "display_name": "Python 3 (ipykernel)",
   "language": "python",
   "name": "python3"
  },
  "language_info": {
   "codemirror_mode": {
    "name": "ipython",
    "version": 3
   },
   "file_extension": ".py",
   "mimetype": "text/x-python",
   "name": "python",
   "nbconvert_exporter": "python",
   "pygments_lexer": "ipython3",
   "version": "3.11.4"
  }
 },
 "nbformat": 4,
 "nbformat_minor": 5
}
